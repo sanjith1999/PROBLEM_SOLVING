{
 "metadata": {
  "language_info": {
   "codemirror_mode": {
    "name": "ipython",
    "version": 3
   },
   "file_extension": ".py",
   "mimetype": "text/x-python",
   "name": "python",
   "nbconvert_exporter": "python",
   "pygments_lexer": "ipython3",
   "version": "3.9.1-final"
  },
  "orig_nbformat": 2,
  "kernelspec": {
   "name": "python3",
   "display_name": "Python 3",
   "language": "python"
  }
 },
 "nbformat": 4,
 "nbformat_minor": 2,
 "cells": [
  {
   "cell_type": "code",
   "execution_count": 7,
   "metadata": {},
   "outputs": [
    {
     "output_type": "stream",
     "name": "stdout",
     "text": [
      "Move disc 1 from A to C\nmove disc 2 from A to B\nMove disc 1 from C to B\nmove disc 3 from A to C\nMove disc 1 from B to A\nmove disc 2 from B to C\nMove disc 1 from A to C\n"
     ]
    }
   ],
   "source": [
    "n=int(input('Number of Discs in A : '))\n",
    "\n",
    "\n",
    "def TowerHanoi(n,A,C,B): \n",
    "    if n ==1: \n",
    "        print('Move disc 1 from',A,'to',C)\n",
    "        return \n",
    "    TowerHanoi(n-1, A, B, C)\n",
    "    print('move disc',n,'from',A,'to',C)\n",
    "    TowerHanoi(n-1, B,C, A)\n",
    "    return \n",
    "\n",
    "\n",
    "TowerHanoi(n, 'A', 'C','B')"
   ]
  },
  {
   "cell_type": "code",
   "execution_count": null,
   "metadata": {},
   "outputs": [],
   "source": []
  }
 ]
}