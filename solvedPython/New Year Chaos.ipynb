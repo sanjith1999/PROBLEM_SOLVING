{
 "metadata": {
  "language_info": {
   "codemirror_mode": {
    "name": "ipython",
    "version": 3
   },
   "file_extension": ".py",
   "mimetype": "text/x-python",
   "name": "python",
   "nbconvert_exporter": "python",
   "pygments_lexer": "ipython3",
   "version": "3.9.1-final"
  },
  "orig_nbformat": 2,
  "kernelspec": {
   "name": "python3",
   "display_name": "Python 3.9.1 64-bit",
   "metadata": {
    "interpreter": {
     "hash": "fa5b6c9ecd2ea9b1cb67de199a8d6f41331fce07002cc32dcc22effae93de8fb"
    }
   }
  }
 },
 "nbformat": 4,
 "nbformat_minor": 2,
 "cells": [
  {
   "cell_type": "code",
   "execution_count": 10,
   "metadata": {},
   "outputs": [],
   "source": [
    "def minimumBribes(q):\n",
    "    bribes=0\n",
    "    newQ=[]\n",
    "    for i,mem in enumerate(q):\n",
    "        x=mem-(i+1)\n",
    "        if x>2:\n",
    "            break\n",
    "        elif x>0:\n",
    "            bribes+=x\n",
    "        elif x<0:\n",
    "            newQ.append(mem)\n",
    "    else:\n",
    "        print(newQ)\n",
    "        print(bribes)\n",
    "        return \n",
    "    print('Too chaotic')\n",
    "   \n",
    "        "
   ]
  },
  {
   "cell_type": "code",
   "execution_count": 13,
   "metadata": {},
   "outputs": [
    {
     "output_type": "stream",
     "name": "stdout",
     "text": [
      "10\n"
     ]
    }
   ],
   "source": [
    "l=[1,3,5,6,7,8,4,2,9]\n",
    "minimumBribes(l)"
   ]
  },
  {
   "cell_type": "code",
   "execution_count": null,
   "metadata": {},
   "outputs": [],
   "source": [
    "def minimumBribes(q):\n",
    "    bribes=[0]*len(q)\n",
    "    reverseQ=q[::-1]\n",
    "    for i,mem in enumerate(reverseQ):\n",
    "        for j in range(mem,max(reverseQ[i:])):\n",
    "            if j+1 not in reverseQ[:i]:\n",
    "                bribes[j]+=1\n",
    "    if max(bribes)>2:\n",
    "        print('Too chaotic')\n",
    "    else:\n",
    "        print(sum(bribes))\n"
   ]
  },
  {
   "cell_type": "code",
   "execution_count": 12,
   "metadata": {},
   "outputs": [],
   "source": []
  },
  {
   "cell_type": "code",
   "execution_count": 1,
   "metadata": {},
   "outputs": [],
   "source": [
    "l=[1,2,3,4,5]\n",
    "l[1],l[2]=l[2],l[1]"
   ]
  },
  {
   "cell_type": "code",
   "execution_count": 2,
   "metadata": {},
   "outputs": [
    {
     "output_type": "execute_result",
     "data": {
      "text/plain": [
       "[1, 3, 2, 4, 5]"
      ]
     },
     "metadata": {},
     "execution_count": 2
    }
   ],
   "source": [
    "l"
   ]
  },
  {
   "cell_type": "code",
   "execution_count": null,
   "metadata": {},
   "outputs": [],
   "source": []
  }
 ]
}