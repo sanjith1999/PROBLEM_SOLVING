{
 "metadata": {
  "language_info": {
   "codemirror_mode": {
    "name": "ipython",
    "version": 3
   },
   "file_extension": ".py",
   "mimetype": "text/x-python",
   "name": "python",
   "nbconvert_exporter": "python",
   "pygments_lexer": "ipython3",
   "version": "3.9.1-final"
  },
  "orig_nbformat": 2,
  "kernelspec": {
   "name": "python3",
   "display_name": "Python 3.9.1 64-bit",
   "metadata": {
    "interpreter": {
     "hash": "fa5b6c9ecd2ea9b1cb67de199a8d6f41331fce07002cc32dcc22effae93de8fb"
    }
   }
  }
 },
 "nbformat": 4,
 "nbformat_minor": 2,
 "cells": [
  {
   "cell_type": "code",
   "execution_count": 29,
   "source": [
    "def per(l):\r\n",
    "    if len(l) == 1:\r\n",
    "        return [l]\r\n",
    "    return [[l[i]] + p for i in range(len(l))for p in per(l[:i] + l [i+1:])]\r\n",
    "\r\n",
    "\r\n",
    "def position(x):\r\n",
    "    y=x.copy()\r\n",
    "    y.sort()\r\n",
    "    return per(y).index(x)+1   \r\n",
    " "
   ],
   "outputs": [],
   "metadata": {}
  },
  {
   "cell_type": "code",
   "execution_count": 48,
   "source": [
    "def solve(x):\r\n",
    "    zeros=[]\r\n",
    "    Sum=0\r\n",
    "    for i in range(len(x)):\r\n",
    "        if x[i]==0:\r\n",
    "            zeros.append(i)\r\n",
    "    missingNumbers=list(set([i for i in range(1,len(x)+1)])-set(x))\r\n",
    "    missingArr=per(missingNumbers)\r\n",
    "    for arr in missingArr:\r\n",
    "        for i,num in zip(zeros,arr):\r\n",
    "            x[i]=num \r\n",
    "        Sum+=position(x)\r\n",
    "    if not missingNumbers:\r\n",
    "        Sum=position(x)\r\n",
    "    return Sum      \r\n"
   ],
   "outputs": [],
   "metadata": {}
  },
  {
   "cell_type": "code",
   "execution_count": 49,
   "source": [
    "solve([4,3,2,1])"
   ],
   "outputs": [
    {
     "output_type": "execute_result",
     "data": {
      "text/plain": [
       "24"
      ]
     },
     "metadata": {},
     "execution_count": 49
    }
   ],
   "metadata": {}
  },
  {
   "cell_type": "code",
   "execution_count": null,
   "source": [
    "def solve(x):\r\n",
    "   pass "
   ],
   "outputs": [],
   "metadata": {}
  }
 ]
}