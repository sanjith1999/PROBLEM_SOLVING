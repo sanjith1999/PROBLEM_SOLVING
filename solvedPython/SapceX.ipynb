{
 "metadata": {
  "language_info": {
   "codemirror_mode": {
    "name": "ipython",
    "version": 3
   },
   "file_extension": ".py",
   "mimetype": "text/x-python",
   "name": "python",
   "nbconvert_exporter": "python",
   "pygments_lexer": "ipython3",
   "version": 3
  },
  "orig_nbformat": 2
 },
 "nbformat": 4,
 "nbformat_minor": 2,
 "cells": [
  {
   "cell_type": "code",
   "execution_count": null,
   "metadata": {},
   "outputs": [],
   "source": [
    "\n",
    "def flatlandSpaceStations(n, c):\n",
    "    c.sort()\n",
    "    maximum=0\n",
    "    for i in range(len(c)-1):\n",
    "        m=(c[i+1]-c[i])//2\n",
    "        if maximum<m:\n",
    "            maximum=m\n",
    "    if c[0]!=0:\n",
    "        maximum=max(maximum,c[0])\n",
    "    if c[-1]!=n-1:\n",
    "        maximum=max(maximum,n-1-c[-1])\n",
    "    return maximum"
   ]
  }
 ]
}