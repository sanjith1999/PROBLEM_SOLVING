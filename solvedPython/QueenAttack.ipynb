{
 "metadata": {
  "language_info": {
   "codemirror_mode": {
    "name": "ipython",
    "version": 3
   },
   "file_extension": ".py",
   "mimetype": "text/x-python",
   "name": "python",
   "nbconvert_exporter": "python",
   "pygments_lexer": "ipython3",
   "version": "3.9.1"
  },
  "orig_nbformat": 2,
  "kernelspec": {
   "name": "python3",
   "display_name": "Python 3.9.1 64-bit"
  },
  "interpreter": {
   "hash": "fa5b6c9ecd2ea9b1cb67de199a8d6f41331fce07002cc32dcc22effae93de8fb"
  }
 },
 "nbformat": 4,
 "nbformat_minor": 2,
 "cells": [
  {
   "cell_type": "code",
   "execution_count": 1,
   "source": [
    "#defing a fuction to detect the obstacle\r\n",
    "def Detector(r_q,c_q,obstacle):\r\n",
    "    state=None\r\n",
    "    if c_q==obstacle[1]:\r\n",
    "        if r_q>obstacle[0]:\r\n",
    "            state=5\r\n",
    "        else:\r\n",
    "            state=1\r\n",
    "    elif r_q==obstacle[0]:\r\n",
    "        if c_q>obstacle[1]:\r\n",
    "            state=7\r\n",
    "        else:\r\n",
    "            state=3\r\n",
    "    elif r_q-obstacle[0]==c_q-obstacle[1]:\r\n",
    "        if r_q>obstacle[0]:\r\n",
    "            state=6\r\n",
    "        else:\r\n",
    "            state=2\r\n",
    "    elif r_q-obstacle[0]==obstacle[1]-c_q:\r\n",
    "        if r_q>obstacle[0]:\r\n",
    "            state=4\r\n",
    "        else:\r\n",
    "            state=8\r\n",
    "    return state\r\n",
    "\r\n",
    "    \r\n",
    "        \r\n",
    "            "
   ],
   "outputs": [],
   "metadata": {}
  },
  {
   "cell_type": "code",
   "execution_count": 2,
   "source": [
    "def queensAttack(n, k, r_q, c_q, obstacles):\r\n",
    "    init_obstacles=[[n+1,c_q],[r_q+min(n+1-c_q,n+1-r_q),c_q+min(n+1-c_q,n+1-r_q)],[r_q,n+1],[r_q-min(r_q,n+1-c_q),c_q+min(r_q,n+1-c_q)],[0,c_q],[r_q-min(r_q,c_q),c_q-min(r_q,c_q)],[r_q,0],[r_q+min(n+1-r_q,c_q),c_q-min(n+1-r_q,c_q)]]\r\n",
    "    fin_obstacles=init_obstacles\r\n",
    "    for obstacle in obstacles:\r\n",
    "        state=Detector(r_q,c_q,obstacle)\r\n",
    "        \r\n",
    "        if state:\r\n",
    "            init_obstacle=init_obstacles[state-1]\r\n",
    "            if abs(r_q-obstacle[0])<abs(r_q-init_obstacle[0]) or abs(c_q-obstacle[1])<abs(c_q-init_obstacle[1]):\r\n",
    "                fin_obstacles[state-1]=obstacle\r\n",
    "                \r\n",
    "    possiblities=sum([max(abs(r_q-obstacle[0]),abs(c_q-obstacle[1])) for obstacle in fin_obstacles])-8\r\n",
    "    return possiblities"
   ],
   "outputs": [],
   "metadata": {}
  }
 ]
}