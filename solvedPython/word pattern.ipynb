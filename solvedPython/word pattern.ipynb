{
 "metadata": {
  "language_info": {
   "codemirror_mode": {
    "name": "ipython",
    "version": 3
   },
   "file_extension": ".py",
   "mimetype": "text/x-python",
   "name": "python",
   "nbconvert_exporter": "python",
   "pygments_lexer": "ipython3",
   "version": 3
  },
  "orig_nbformat": 2
 },
 "nbformat": 4,
 "nbformat_minor": 2,
 "cells": [
  {
   "cell_type": "code",
   "execution_count": null,
   "metadata": {},
   "outputs": [],
   "source": [
    "def wordPattern( pattern: str, s: str) -> bool:\n",
    "    s=s.split()\n",
    "    d={}\n",
    "    letters=[]\n",
    "    for i,letter in enumerate(pattern):\n",
    "        if letter in d:\n",
    "            d[letter].append(i)\n",
    "        else:\n",
    "            d.update({letter:[i]})\n",
    "            letters.append(letter)\n",
    "\n",
    "    \n",
    "    ds={}\n",
    "    words=[]\n",
    "    for i,word in enumerate(s):\n",
    "\n",
    "        if word in ds:\n",
    "            ds[word].append(i)\n",
    "        else:\n",
    "            ds.update({word:[i]})\n",
    "            words.append(word)\n",
    "    w=len(words)\n",
    "    l=len(letters)\n",
    "    if w!=l:\n",
    "        return False\n",
    "    for i in range(l):\n",
    "        if d[letters[i]]!=ds[words[i]]:\n",
    "            return False\n",
    "    return True"
   ]
  }
 ]
}